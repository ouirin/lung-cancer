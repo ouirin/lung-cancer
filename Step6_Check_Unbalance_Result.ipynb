{
 "cells": [
  {
   "cell_type": "code",
   "execution_count": 33,
   "metadata": {},
   "outputs": [],
   "source": [
    "import pandas as pd\n",
    "import numpy as np\n",
    "import matplotlib.pyplot as plt  "
   ]
  },
  {
   "cell_type": "code",
   "execution_count": 101,
   "metadata": {},
   "outputs": [],
   "source": [
    "F_dir = \"D:/jupyter-notebook/LungCancerPredict/Unbalance_Work/out_mse_realratio.csv\""
   ]
  },
  {
   "cell_type": "code",
   "execution_count": 102,
   "metadata": {},
   "outputs": [],
   "source": [
    "df = pd.read_csv(F_dir)"
   ]
  },
  {
   "cell_type": "code",
   "execution_count": 103,
   "metadata": {},
   "outputs": [
    {
     "name": "stdout",
     "output_type": "stream",
     "text": [
      "6.2694187\n",
      "1.4018712\n"
     ]
    },
    {
     "data": {
      "image/png": "[encoded data removed]",
      "text/plain": [
       "<Figure size 432x288 with 1 Axes>"
      ]
     },
     "metadata": {},
     "output_type": "display_data"
    }
   ],
   "source": [
    "max_value = df[\"calcification_P\"].max()\n",
    "print(max_value)\n",
    "min_value = df[\"calcification_P\"].min()\n",
    "print(min_value)\n",
    "\n",
    "data = df['calcification_P'].tolist()\n",
    "\n",
    "plt.hist(data,100)\n",
    "plt.show()  "
   ]
  },
  {
   "cell_type": "code",
   "execution_count": 104,
   "metadata": {},
   "outputs": [],
   "source": [
    "def sigmoid(x):\n",
    "    return 1/(1+np.exp(-x)) "
   ]
  },
  {
   "cell_type": "code",
   "execution_count": 131,
   "metadata": {},
   "outputs": [
    {
     "data": {
      "image/png": "[encoded data removed]",
      "text/plain": [
       "<Figure size 432x288 with 1 Axes>"
      ]
     },
     "metadata": {},
     "output_type": "display_data"
    }
   ],
   "source": [
    "data = np.array( df['calcification_P'].tolist() )\n",
    "\n",
    "std = np.std(data,ddof=1)\n",
    "median = np.median(data)\n",
    "\n",
    "#data = np.clip(data,0,median)\n",
    "\n",
    "max_value = max(data)\n",
    "min_value = min(data)\n",
    "\n",
    "data = data.tolist()\n",
    "plt.hist(data,100)\n",
    "plt.show()  "
   ]
  },
  {
   "cell_type": "code",
   "execution_count": 133,
   "metadata": {},
   "outputs": [
    {
     "data": {
      "image/png": "[encoded data removed]",
      "text/plain": [
       "<Figure size 432x288 with 1 Axes>"
      ]
     },
     "metadata": {},
     "output_type": "display_data"
    }
   ],
   "source": [
    "for i in range(len(df)): \n",
    "    \n",
    "    temp = data[i]\n",
    "    data[i] = (  2*(temp-min_value)/(max_value-min_value)-1 ) * 5\n",
    "    data[i] = sigmoid(data[i])*6\n",
    "    temp = data[i]\n",
    "    data[i] = (  2*(temp-min_value)/(max_value-min_value)-1 ) * 5\n",
    "    data[i] = sigmoid(data[i])*6\n",
    "    \n",
    "    \n",
    "plt.hist(data,100)\n",
    "plt.show()  "
   ]
  },
  {
   "cell_type": "code",
   "execution_count": 90,
   "metadata": {
    "scrolled": true
   },
   "outputs": [
    {
     "name": "stdout",
     "output_type": "stream",
     "text": [
      "5741\n"
     ]
    }
   ],
   "source": [
    "A1 = []\n",
    "A2 = []\n",
    "A3 = []\n",
    "A4 = []\n",
    "A5 = []\n",
    "A6 = []\n",
    "print(len(df))"
   ]
  },
  {
   "cell_type": "code",
   "execution_count": 91,
   "metadata": {},
   "outputs": [],
   "source": [
    "for i in range(len(df)):\n",
    "    if df.iloc[i][\"calcification_T\"] == 1:\n",
    "        A1.append((df.iloc[i][\"calcification_T\"],df.iloc[i][\"calcification_P\"]))\n",
    "    if df.iloc[i][\"calcification_T\"] == 2:\n",
    "        A2.append((df.iloc[i][\"calcification_T\"],df.iloc[i][\"calcification_P\"]))\n",
    "    if df.iloc[i][\"calcification_T\"] == 3:\n",
    "        A3.append((df.iloc[i][\"calcification_T\"],df.iloc[i][\"calcification_P\"]))\n",
    "    if df.iloc[i][\"calcification_T\"] == 4:\n",
    "        A4.append((df.iloc[i][\"calcification_T\"],df.iloc[i][\"calcification_P\"]))\n",
    "    if df.iloc[i][\"calcification_T\"] == 5:\n",
    "        A5.append((df.iloc[i][\"calcification_T\"],df.iloc[i][\"calcification_P\"]))\n",
    "    if df.iloc[i][\"calcification_T\"] == 6:\n",
    "        A6.append((df.iloc[i][\"calcification_T\"],df.iloc[i][\"calcification_P\"]))"
   ]
  },
  {
   "cell_type": "code",
   "execution_count": 7,
   "metadata": {},
   "outputs": [
    {
     "ename": "NameError",
     "evalue": "name 'data' is not defined",
     "output_type": "error",
     "traceback": [
      "\u001b[1;31m---------------------------------------------------------------------------\u001b[0m",
      "\u001b[1;31mNameError\u001b[0m                                 Traceback (most recent call last)",
      "\u001b[1;32m<ipython-input-7-3b914238e2e0>\u001b[0m in \u001b[0;36m<module>\u001b[1;34m()\u001b[0m\n\u001b[0;32m      1\u001b[0m \u001b[0mtemp1\u001b[0m \u001b[1;33m=\u001b[0m \u001b[1;33m[\u001b[0m\u001b[1;33m]\u001b[0m\u001b[1;33m\u001b[0m\u001b[0m\n\u001b[0;32m      2\u001b[0m \u001b[1;32mfor\u001b[0m \u001b[0mi\u001b[0m \u001b[1;32min\u001b[0m \u001b[0mrange\u001b[0m\u001b[1;33m(\u001b[0m\u001b[0mlen\u001b[0m\u001b[1;33m(\u001b[0m\u001b[0mA1\u001b[0m\u001b[1;33m)\u001b[0m\u001b[1;33m)\u001b[0m\u001b[1;33m:\u001b[0m\u001b[1;33m\u001b[0m\u001b[0m\n\u001b[1;32m----> 3\u001b[1;33m     \u001b[0mtemp1\u001b[0m\u001b[1;33m.\u001b[0m\u001b[0mappend\u001b[0m\u001b[1;33m(\u001b[0m \u001b[0mabs\u001b[0m\u001b[1;33m(\u001b[0m\u001b[0mA1\u001b[0m\u001b[1;33m[\u001b[0m\u001b[0mi\u001b[0m\u001b[1;33m]\u001b[0m\u001b[1;33m[\u001b[0m\u001b[1;36m0\u001b[0m\u001b[1;33m]\u001b[0m\u001b[1;33m-\u001b[0m\u001b[0mdata\u001b[0m\u001b[1;33m[\u001b[0m\u001b[0mi\u001b[0m\u001b[1;33m]\u001b[0m\u001b[1;33m)\u001b[0m \u001b[1;33m)\u001b[0m\u001b[1;33m\u001b[0m\u001b[0m\n\u001b[0m\u001b[0;32m      4\u001b[0m \u001b[1;33m\u001b[0m\u001b[0m\n\u001b[0;32m      5\u001b[0m \u001b[0mtemp1\u001b[0m \u001b[1;33m=\u001b[0m \u001b[0mnp\u001b[0m\u001b[1;33m.\u001b[0m\u001b[0mmean\u001b[0m\u001b[1;33m(\u001b[0m\u001b[0mtemp1\u001b[0m\u001b[1;33m)\u001b[0m\u001b[1;33m\u001b[0m\u001b[0m\n",
      "\u001b[1;31mNameError\u001b[0m: name 'data' is not defined"
     ]
    }
   ],
   "source": [
    "temp1 = []\n",
    "for i in range(len(A1)):\n",
    "    temp1.append( abs(A1[i][0]-data[i]) ) \n",
    "    \n",
    "temp1 = np.mean(temp1)\n",
    "print(temp1)"
   ]
  },
  {
   "cell_type": "code",
   "execution_count": null,
   "metadata": {},
   "outputs": [],
   "source": []
  },
  {
   "cell_type": "code",
   "execution_count": 92,
   "metadata": {},
   "outputs": [
    {
     "name": "stdout",
     "output_type": "stream",
     "text": [
      "4.99855115\n"
     ]
    }
   ],
   "source": [
    "temp1 = []\n",
    "for i in range(len(A1)):\n",
    "    temp1.append( abs(A1[i][0]-A1[i][1]) ) \n",
    "    \n",
    "temp1 = np.mean(temp1)\n",
    "print(temp1)"
   ]
  },
  {
   "cell_type": "code",
   "execution_count": 93,
   "metadata": {},
   "outputs": [
    {
     "name": "stdout",
     "output_type": "stream",
     "text": [
      "3.9676798545454535\n"
     ]
    }
   ],
   "source": [
    "temp2 = []\n",
    "for i in range(len(A2)):\n",
    "    temp2.append( abs(A2[i][0]-A2[i][1]) ) \n",
    "    \n",
    "temp2 = np.mean(temp2)\n",
    "print(temp2)"
   ]
  },
  {
   "cell_type": "code",
   "execution_count": 94,
   "metadata": {},
   "outputs": [
    {
     "name": "stdout",
     "output_type": "stream",
     "text": [
      "2.97520062300885\n"
     ]
    }
   ],
   "source": [
    "temp3 = []\n",
    "for i in range(len(A3)):\n",
    "    temp3.append( abs(A3[i][0]-A3[i][1]) ) \n",
    "    \n",
    "temp3 = np.mean(temp3)\n",
    "print(temp3)"
   ]
  },
  {
   "cell_type": "code",
   "execution_count": 95,
   "metadata": {},
   "outputs": [
    {
     "name": "stdout",
     "output_type": "stream",
     "text": [
      "1.9859436771428571\n"
     ]
    }
   ],
   "source": [
    "temp4 = []\n",
    "for i in range(len(A4)):\n",
    "    temp4.append( abs(A4[i][0]-A4[i][1]) ) \n",
    "    \n",
    "temp4 = np.mean(temp4)\n",
    "print(temp4)"
   ]
  },
  {
   "cell_type": "code",
   "execution_count": 96,
   "metadata": {},
   "outputs": [
    {
     "name": "stdout",
     "output_type": "stream",
     "text": [
      "0.9878179942307691\n"
     ]
    }
   ],
   "source": [
    "temp5 = []\n",
    "for i in range(len(A5)):\n",
    "    temp5.append( abs(A5[i][0]-A5[i][1]) ) \n",
    "    \n",
    "temp5 = np.mean(temp5)\n",
    "print(temp5)"
   ]
  },
  {
   "cell_type": "code",
   "execution_count": 97,
   "metadata": {},
   "outputs": [
    {
     "name": "stdout",
     "output_type": "stream",
     "text": [
      "0.004379513046905801\n"
     ]
    }
   ],
   "source": [
    "temp6 = []\n",
    "for i in range(len(A6)):\n",
    "    temp6.append( abs(A6[i][0]-A6[i][1]) ) \n",
    "    \n",
    "temp6 = np.mean(temp6)\n",
    "print(temp6)"
   ]
  },
  {
   "cell_type": "code",
   "execution_count": 43,
   "metadata": {},
   "outputs": [],
   "source": [
    "temp6=0"
   ]
  },
  {
   "cell_type": "code",
   "execution_count": 98,
   "metadata": {},
   "outputs": [
    {
     "data": {
      "text/plain": [
       "0.3288143613656158"
      ]
     },
     "execution_count": 98,
     "metadata": {},
     "output_type": "execute_result"
    }
   ],
   "source": [
    "( temp1*len(A1)+temp2*len(A2)+temp3*len(A3)+temp4*len(A4)+temp5*len(A5)+temp6*len(A6) ) / len(df)"
   ]
  },
  {
   "cell_type": "code",
   "execution_count": 99,
   "metadata": {},
   "outputs": [
    {
     "data": {
      "text/plain": [
       "2.4865954686624723"
      ]
     },
     "execution_count": 99,
     "metadata": {},
     "output_type": "execute_result"
    }
   ],
   "source": [
    "(temp1+temp2+temp3+temp4+temp5+temp6)/6"
   ]
  },
  {
   "cell_type": "code",
   "execution_count": null,
   "metadata": {},
   "outputs": [],
   "source": []
  },
  {
   "cell_type": "code",
   "execution_count": null,
   "metadata": {},
   "outputs": [],
   "source": []
  }
 ],
 "metadata": {
  "kernelspec": {
   "display_name": "Python 3",
   "language": "python",
   "name": "python3"
  },
  "language_info": {
   "codemirror_mode": {
    "name": "ipython",
    "version": 3
   },
   "file_extension": ".py",
   "mimetype": "text/x-python",
   "name": "python",
   "nbconvert_exporter": "python",
   "pygments_lexer": "ipython3",
   "version": "3.8.5"
  }
 },
 "nbformat": 4,
 "nbformat_minor": 2
}

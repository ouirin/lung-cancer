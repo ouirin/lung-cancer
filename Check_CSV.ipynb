{
 "cells": [
  {
   "cell_type": "code",
   "execution_count": 2,
   "metadata": {},
   "outputs": [
    {
     "name": "stdout",
     "output_type": "stream",
     "text": [
      "Computer:  DESKTOP-F8TV69I\n"
     ]
    }
   ],
   "source": [
    "import pandas\n",
    "import settings\n",
    "import helpers\n",
    "import random\n",
    "import os\n",
    "import glob\n",
    "import ntpath\n",
    "import math\n",
    "\n",
    "CUBE_IMGTYPE_SRC = \"_i\""
   ]
  },
  {
   "cell_type": "code",
   "execution_count": 4,
   "metadata": {},
   "outputs": [
    {
     "name": "stdout",
     "output_type": "stream",
     "text": [
      "2029\n",
      "1007\n"
     ]
    }
   ],
   "source": [
    "F_dir = \"D:/jupyter-notebook/LungCancerPredict/NDSB_Annotations_From_RNN/v2/_labels_predicted/\"\n",
    "\n",
    "#总共有多少个nodule\n",
    "count1=0\n",
    "#有多少个人没有检测到nodule\n",
    "count2=0\n",
    "\n",
    "\n",
    "for patient_index, csv_file in enumerate(glob.glob(F_dir + \"*.csv\")):\n",
    "    \n",
    "    patient_id = ntpath.basename(csv_file).replace(\".csv\", \"\") \n",
    "    \n",
    "    #读取该病人的Output数据\n",
    "    df = pandas.read_csv(csv_file)\n",
    "    \n",
    "    if df.empty==True:\n",
    "        count2+=1\n",
    "    \n",
    "    count1+=len(df)\n",
    "\n",
    "    \n",
    "print(count1)\n",
    "print(count2)"
   ]
  },
  {
   "cell_type": "code",
   "execution_count": null,
   "metadata": {},
   "outputs": [],
   "source": []
  }
 ],
 "metadata": {
  "kernelspec": {
   "display_name": "Python 3",
   "language": "python",
   "name": "python3"
  },
  "language_info": {
   "codemirror_mode": {
    "name": "ipython",
    "version": 3
   },
   "file_extension": ".py",
   "mimetype": "text/x-python",
   "name": "python",
   "nbconvert_exporter": "python",
   "pygments_lexer": "ipython3",
   "version": "3.5.5"
  }
 },
 "nbformat": 4,
 "nbformat_minor": 2
}

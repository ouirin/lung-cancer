{
 "cells": [
  {
   "cell_type": "code",
   "execution_count": 1,
   "metadata": {},
   "outputs": [
    {
     "name": "stdout",
     "output_type": "stream",
     "text": [
      "Computer:  DESKTOP-F8TV69I\n"
     ]
    }
   ],
   "source": [
    "import settings\n",
    "import helpers\n",
    "import glob\n",
    "import pandas\n",
    "import ntpath\n",
    "import numpy\n",
    "import cv2\n",
    "import os\n",
    "\n",
    "CUBE_IMGTYPE_SRC = \"_i\""
   ]
  },
  {
   "cell_type": "markdown",
   "metadata": {},
   "source": [
    "# 将从ndsb数据集或者luna数据集里检测到的结节显示出来"
   ]
  },
  {
   "cell_type": "code",
   "execution_count": 9,
   "metadata": {},
   "outputs": [
    {
     "name": "stdout",
     "output_type": "stream",
     "text": [
      "0    \t1.3.6.1.4.1.14519.5.2.1.6279.6001.980362852713685276785310240144\t5       \n",
      "Counter: 1\n",
      "1    \t1.3.6.1.4.1.14519.5.2.1.6279.6001.986011151772797848993829243183\t1       \n",
      "Counter: 2\n",
      "2    \t1.3.6.1.4.1.14519.5.2.1.6279.6001.994459772950022352718462251777\t23      \n",
      "Counter: 3\n",
      "3    \t1.3.6.1.4.1.14519.5.2.1.6279.6001.997611074084993415992563148335\t14      \n",
      "Counter: 4\n"
     ]
    }
   ],
   "source": [
    "if True:\n",
    "    make_annotation_images_luna16()\n",
    "    \n",
    "if False:\n",
    "    make_annotation_images_ndsb3()\n"
   ]
  },
  {
   "cell_type": "code",
   "execution_count": 1,
   "metadata": {},
   "outputs": [],
   "source": [
    "def make_annotation_images_ndsb3():\n",
    "    \n",
    "    src_dir = settings.NDSB3_NODULE_DETECTION_DIR_Model2 + \"predictions10_luna16_fs/\"\n",
    "    \n",
    "    dst_dir = settings.BASE_DIR_SSD + \"nodule_check/\"\n",
    "    \n",
    "    if not os.path.exists(dst_dir):\n",
    "        os.mkdir(dst_dir)\n",
    "\n",
    "    for file_path in glob.glob(dst_dir + \"*.*\"):\n",
    "        os.remove(file_path)\n",
    "    \n",
    "    count=1\n",
    "    \n",
    "    #逐一遍历所有病人的positive label文件\n",
    "    for patient_index, csv_file in enumerate(glob.glob(src_dir + \"*.csv\")):\n",
    "        \n",
    "        patient_id = ntpath.basename(csv_file).replace(\".csv\", \"\") \n",
    "        df_annos = pandas.read_csv(csv_file)\n",
    "        \n",
    "        #如果没有label信息，则跳过\n",
    "        if len(df_annos) == 0:\n",
    "            continue\n",
    "        \n",
    "        #读取该病人重采样后的图片\n",
    "        images = helpers.load_patient_images(patient_id, settings.NDSB3_EXTRACTED_IMAGE_DIR, \"*\" + CUBE_IMGTYPE_SRC + \".png\")\n",
    "        \n",
    "        #逐一遍历该病人的positive label\n",
    "        for index, row in df_annos.iterrows():\n",
    "            \n",
    "            #读取nodule信息\n",
    "            coord_x = int(row[\"coord_x\"] * images.shape[2])\n",
    "            coord_y = int(row[\"coord_y\"] * images.shape[1])\n",
    "            coord_z = int(row[\"coord_z\"] * images.shape[0])\n",
    "            anno_index = row[\"anno_index\"]\n",
    "           \n",
    "       \n",
    "            #以nodule的点为中心，创建一个64*64*64的cube\n",
    "            cube_img = get_cube_from_img(images, coord_x, coord_y, coord_z, 64)\n",
    "        \n",
    "            if cube_img.sum() < 5:\n",
    "                print(\" ***** Skipping \", coord_x, coord_y, coord_z)\n",
    "                continue\n",
    "\n",
    "            if cube_img.mean() < 10:\n",
    "                print(\" ***** Suspicious \", coord_x, coord_y, coord_z)\n",
    "\n",
    "            if cube_img.shape != (64, 64, 64):\n",
    "                print(\" ***** incorrect shape !!! \", str(anno_index), \" - \",(coord_x, coord_y, coord_z))\n",
    "                continue\n",
    "            \n",
    "            #将该cube数据以8*8个，64*64的图片形式保存\n",
    "            save_cube_img(dst_dir + patient_id + \"_\" + str(anno_index) + \"_\"  + \"_1_pos.png\", cube_img, 8, 8)\n",
    "        \n",
    "        #输入各病人的cube数量\n",
    "        helpers.print_tabbed([patient_index, patient_id, len(df_annos)], [5, 64, 8])\n",
    "           \n",
    "        print(\"Counter:\",count)\n",
    "        count+=1"
   ]
  },
  {
   "cell_type": "code",
   "execution_count": 2,
   "metadata": {},
   "outputs": [],
   "source": [
    "def make_annotation_images_luna16():\n",
    "    \n",
    "    src_dir = settings.LUNA16_NODULE_DETECTION_DIR_RNN + \"predictions10_luna16_fs/\"\n",
    "    \n",
    "    dst_dir = settings.BASE_DIR_SSD + \"nodule_check/\"\n",
    "    \n",
    "    if not os.path.exists(dst_dir):\n",
    "        os.mkdir(dst_dir)\n",
    "\n",
    "    for file_path in glob.glob(dst_dir + \"*.*\"):\n",
    "        os.remove(file_path)\n",
    "    \n",
    "    count=1\n",
    "    \n",
    "    #逐一遍历所有病人的positive label文件\n",
    "    for patient_index, csv_file in enumerate(glob.glob(src_dir + \"*.csv\")):\n",
    "        \n",
    "        patient_id = ntpath.basename(csv_file).replace(\".csv\", \"\") \n",
    "        df_annos = pandas.read_csv(csv_file)\n",
    "        \n",
    "        #如果没有label信息，则跳过\n",
    "        if len(df_annos) == 0:\n",
    "            continue\n",
    "        \n",
    "        #读取该病人重采样后的图片\n",
    "        images = helpers.load_patient_images(patient_id, settings.LUNA16_EXTRACTED_IMAGE_DIR, \"*\" + CUBE_IMGTYPE_SRC + \".png\")\n",
    "        \n",
    "        #逐一check nodule\n",
    "        for index, row in df_annos.iterrows():\n",
    "            \n",
    "            #读取nodule信息\n",
    "            coord_x = int(row[\"coord_x\"] * images.shape[2])\n",
    "            coord_y = int(row[\"coord_y\"] * images.shape[1])\n",
    "            coord_z = int(row[\"coord_z\"] * images.shape[0])\n",
    "            anno_index = row[\"anno_index\"]\n",
    "           \n",
    "            #以nodule的点为中心，创建一个64*64*64的cube\n",
    "            cube_img = get_cube_from_img(images, coord_x, coord_y, coord_z, 64)\n",
    "        \n",
    "            if cube_img.sum() < 5:\n",
    "                print(\" ***** Skipping \", coord_x, coord_y, coord_z)\n",
    "                continue\n",
    "\n",
    "            if cube_img.mean() < 10:\n",
    "                print(\" ***** Suspicious \", coord_x, coord_y, coord_z)\n",
    "\n",
    "            if cube_img.shape != (64, 64, 64):\n",
    "                print(\" ***** incorrect shape !!! \", str(anno_index), \" - \",(coord_x, coord_y, coord_z))\n",
    "                continue\n",
    "            \n",
    "            #将该cube数据以8*8个，64*64的图片形式保存\n",
    "            save_cube_img(dst_dir + patient_id + \"_\" + str(anno_index) + \"_\"  + \"_1_pos.png\", cube_img, 8, 8)\n",
    "        \n",
    "        #输入各病人的cube数量\n",
    "        helpers.print_tabbed([patient_index, patient_id, len(df_annos)], [5, 64, 8])\n",
    "           \n",
    "        print(\"Counter:\",count)\n",
    "        count+=1"
   ]
  },
  {
   "cell_type": "code",
   "execution_count": 3,
   "metadata": {},
   "outputs": [],
   "source": [
    "def get_cube_from_img(img3d, center_x, center_y, center_z, block_size):\n",
    "    start_x = max(center_x - block_size / 2, 0)\n",
    "    if start_x + block_size > img3d.shape[2]:\n",
    "        start_x = img3d.shape[2] - block_size\n",
    "\n",
    "    start_y = max(center_y - block_size / 2, 0)\n",
    "    start_z = max(center_z - block_size / 2, 0)\n",
    "    if start_z + block_size > img3d.shape[0]:\n",
    "        start_z = img3d.shape[0] - block_size\n",
    "    start_z = int(start_z)\n",
    "    start_y = int(start_y)\n",
    "    start_x = int(start_x)\n",
    "    res = img3d[start_z:start_z + block_size, start_y:start_y + block_size, start_x:start_x + block_size]\n",
    "    return res"
   ]
  },
  {
   "cell_type": "code",
   "execution_count": 4,
   "metadata": {},
   "outputs": [],
   "source": [
    "def save_cube_img(target_path, cube_img, rows, cols):\n",
    "    #assert rows * cols == cube_img.shape[0]\n",
    "    img_height = cube_img.shape[1]\n",
    "    img_width = cube_img.shape[1]\n",
    "    res_img = numpy.zeros((rows * img_height, cols * img_width), dtype=numpy.uint8)\n",
    "\n",
    "    for row in range(rows):\n",
    "        for col in range(cols):\n",
    "            target_y = row * img_height\n",
    "            target_x = col * img_width\n",
    "            res_img[target_y:target_y + img_height, target_x:target_x + img_width] = cube_img[row * cols + col]\n",
    "\n",
    "    cv2.imwrite(target_path, res_img)"
   ]
  },
  {
   "cell_type": "code",
   "execution_count": null,
   "metadata": {},
   "outputs": [],
   "source": []
  }
 ],
 "metadata": {
  "kernelspec": {
   "display_name": "Python 3",
   "language": "python",
   "name": "python3"
  },
  "language_info": {
   "codemirror_mode": {
    "name": "ipython",
    "version": 3
   },
   "file_extension": ".py",
   "mimetype": "text/x-python",
   "name": "python",
   "nbconvert_exporter": "python",
   "pygments_lexer": "ipython3",
   "version": "3.5.5"
  }
 },
 "nbformat": 4,
 "nbformat_minor": 2
}
